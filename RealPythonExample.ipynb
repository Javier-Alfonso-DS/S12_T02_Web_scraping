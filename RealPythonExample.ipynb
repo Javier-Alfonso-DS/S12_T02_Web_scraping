{
 "cells": [
  {
   "cell_type": "markdown",
   "metadata": {},
   "source": [
    "# Level 1\n",
    "\n",
    "## - Exercise 1\n",
    "\n",
    "Example BeautifulSoup of:\n",
    "https://realpython.com/beautiful-soup-web-scraper-python/#scrape-the-fake-python-job-site\n",
    "\n"
   ]
  },
  {
   "cell_type": "code",
   "execution_count": 24,
   "metadata": {},
   "outputs": [],
   "source": [
    "import requests\n",
    "from bs4 import BeautifulSoup\n"
   ]
  },
  {
   "cell_type": "code",
   "execution_count": 25,
   "metadata": {},
   "outputs": [],
   "source": [
    "\n",
    "import requests\n",
    "\n",
    "URL = \"https://realpython.github.io/fake-jobs/\"\n",
    "page = requests.get(URL)\n",
    "\n",
    "fsock = open('Output_RealPythonExample_raw.html', 'w')\n",
    "print(page.text, file=fsock)\n",
    "fsock.close()"
   ]
  },
  {
   "cell_type": "code",
   "execution_count": 26,
   "metadata": {},
   "outputs": [],
   "source": [
    "URL = \"https://realpython.github.io/fake-jobs/\"\n",
    "page = requests.get(URL)\n",
    "\n",
    "soup = BeautifulSoup(page.content, \"html.parser\")"
   ]
  },
  {
   "cell_type": "markdown",
   "metadata": {},
   "source": []
  },
  {
   "cell_type": "code",
   "execution_count": 27,
   "metadata": {},
   "outputs": [],
   "source": [
    "fsock = open('Output_RealPythonExample_BeautifulSoup_Prettify.html', 'w')\n",
    "print(soup.prettify(), file=fsock)\n",
    "fsock.close()\n",
    "\n",
    "results = soup.find(id=\"ResultsContainer\")"
   ]
  },
  {
   "cell_type": "code",
   "execution_count": 28,
   "metadata": {},
   "outputs": [],
   "source": [
    "results = soup.find(id=\"ResultsContainer\")\n",
    "# print(results.prettify())\n"
   ]
  },
  {
   "cell_type": "code",
   "execution_count": 29,
   "metadata": {},
   "outputs": [
    {
     "name": "stdout",
     "output_type": "stream",
     "text": [
      "Senior Python Developer\n",
      "Energy engineer\n",
      "Legal executive\n",
      "Fitness centre manager\n",
      "Product manager\n",
      "Medical technical officer\n",
      "Physiological scientist\n",
      "Textile designer\n",
      "Television floor manager\n",
      "Waste management officer\n",
      "Software Engineer (Python)\n",
      "Interpreter\n",
      "Architect\n",
      "Meteorologist\n",
      "Audiological scientist\n",
      "English as a second language teacher\n",
      "Surgeon\n",
      "Equities trader\n",
      "Newspaper journalist\n",
      "Materials engineer\n",
      "Python Programmer (Entry-Level)\n",
      "Product/process development scientist\n",
      "Scientist, research (maths)\n",
      "Ecologist\n",
      "Materials engineer\n",
      "Historic buildings inspector/conservation officer\n",
      "Data scientist\n",
      "Psychiatrist\n",
      "Structural engineer\n",
      "Immigration officer\n",
      "Python Programmer (Entry-Level)\n",
      "Neurosurgeon\n",
      "Broadcast engineer\n",
      "Make\n",
      "Nurse, adult\n",
      "Air broker\n",
      "Editor, film/video\n",
      "Production assistant, radio\n",
      "Engineer, communications\n",
      "Sales executive\n",
      "Software Developer (Python)\n",
      "Futures trader\n",
      "Tour manager\n",
      "Cytogeneticist\n",
      "Designer, multimedia\n",
      "Trade union research officer\n",
      "Chemist, analytical\n",
      "Programmer, multimedia\n",
      "Engineer, broadcasting (operations)\n",
      "Teacher, primary school\n",
      "Python Developer\n",
      "Manufacturing systems engineer\n",
      "Producer, television/film/video\n",
      "Scientist, forensic\n",
      "Bonds trader\n",
      "Editorial assistant\n",
      "Photographer\n",
      "Retail banker\n",
      "Jewellery designer\n",
      "Ophthalmologist\n",
      "Back-End Web Developer (Python, Django)\n",
      "Licensed conveyancer\n",
      "Futures trader\n",
      "Counselling psychologist\n",
      "Insurance underwriter\n",
      "Engineer, automotive\n",
      "Producer, radio\n",
      "Dispensing optician\n",
      "Designer, fashion/clothing\n",
      "Chartered loss adjuster\n",
      "Back-End Web Developer (Python, Django)\n",
      "Forest/woodland manager\n",
      "Clinical cytogeneticist\n",
      "Print production planner\n",
      "Systems developer\n",
      "Graphic designer\n",
      "Writer\n",
      "Field seismologist\n",
      "Chief Strategy Officer\n",
      "Air cabin crew\n",
      "Python Programmer (Entry-Level)\n",
      "Warden/ranger\n",
      "Sports therapist\n",
      "Arts development officer\n",
      "Printmaker\n",
      "Health and safety adviser\n",
      "Manufacturing systems engineer\n",
      "Programmer, applications\n",
      "Medical physicist\n",
      "Media planner\n",
      "Software Developer (Python)\n",
      "Surveyor, land/geomatics\n",
      "Legal executive\n",
      "Librarian, academic\n",
      "Barrister\n",
      "Museum/gallery exhibitions officer\n",
      "Radiographer, diagnostic\n",
      "Database administrator\n",
      "Furniture designer\n",
      "Ship broker\n"
     ]
    }
   ],
   "source": [
    "job_elements = results.find_all(\"div\", class_=\"card-content\")\n",
    "for job_element in job_elements:\n",
    "    # print(job_element, end=\"\\n\"*2)\n",
    "    title_element = job_element.find(\"h2\", class_=\"title\")\n",
    "    company_element = job_element.find(\"h3\", class_=\"company\")\n",
    "    location_element = job_element.find(\"p\", class_=\"location\")\n",
    "    print(title_element.text.strip())\n",
    "    # print(company_element)\n",
    "    # print(location_element)\n",
    "    # print()"
   ]
  },
  {
   "cell_type": "code",
   "execution_count": 30,
   "metadata": {},
   "outputs": [
    {
     "name": "stdout",
     "output_type": "stream",
     "text": [
      "[]\n"
     ]
    }
   ],
   "source": [
    "python_jobs = results.find_all(\"h2\", string=\"Python\")\n",
    "print(python_jobs)"
   ]
  },
  {
   "cell_type": "code",
   "execution_count": 32,
   "metadata": {},
   "outputs": [
    {
     "name": "stdout",
     "output_type": "stream",
     "text": [
      "10\n",
      "Senior Python Developer\n",
      "Payne, Roberts and Davis\n",
      "Stewartbury, AA\n",
      "Apply here: https://realpython.github.io/fake-jobs/jobs/senior-python-developer-0.html\n",
      "\n",
      "Software Engineer (Python)\n",
      "Garcia PLC\n",
      "Ericberg, AE\n",
      "Apply here: https://realpython.github.io/fake-jobs/jobs/software-engineer-python-10.html\n",
      "\n",
      "Python Programmer (Entry-Level)\n",
      "Moss, Duncan and Allen\n",
      "Port Sara, AE\n",
      "Apply here: https://realpython.github.io/fake-jobs/jobs/python-programmer-entry-level-20.html\n",
      "\n",
      "Python Programmer (Entry-Level)\n",
      "Cooper and Sons\n",
      "West Victor, AE\n",
      "Apply here: https://realpython.github.io/fake-jobs/jobs/python-programmer-entry-level-30.html\n",
      "\n",
      "Software Developer (Python)\n",
      "Adams-Brewer\n",
      "Brockburgh, AE\n",
      "Apply here: https://realpython.github.io/fake-jobs/jobs/software-developer-python-40.html\n",
      "\n",
      "Python Developer\n",
      "Rivera and Sons\n",
      "East Michaelfort, AA\n",
      "Apply here: https://realpython.github.io/fake-jobs/jobs/python-developer-50.html\n",
      "\n",
      "Back-End Web Developer (Python, Django)\n",
      "Stewart-Alexander\n",
      "South Kimberly, AA\n",
      "Apply here: https://realpython.github.io/fake-jobs/jobs/back-end-web-developer-python-django-60.html\n",
      "\n",
      "Back-End Web Developer (Python, Django)\n",
      "Jackson, Ali and Mckee\n",
      "New Elizabethside, AA\n",
      "Apply here: https://realpython.github.io/fake-jobs/jobs/back-end-web-developer-python-django-70.html\n",
      "\n",
      "Python Programmer (Entry-Level)\n",
      "Mathews Inc\n",
      "Robertborough, AP\n",
      "Apply here: https://realpython.github.io/fake-jobs/jobs/python-programmer-entry-level-80.html\n",
      "\n",
      "Software Developer (Python)\n",
      "Moreno-Rodriguez\n",
      "Martinezburgh, AE\n",
      "Apply here: https://realpython.github.io/fake-jobs/jobs/software-developer-python-90.html\n",
      "\n"
     ]
    }
   ],
   "source": [
    "python_jobs = results.find_all(\n",
    "    \"h2\", string=lambda text: \"python\" in text.lower()\n",
    ")\n",
    "print(len(python_jobs))\n",
    "\n",
    "python_job_elements = [\n",
    "    h2_element.parent.parent.parent for h2_element in python_jobs\n",
    "]\n",
    "for job_element in python_job_elements:\n",
    "    title_element = job_element.find(\"h2\", class_=\"title\")\n",
    "    company_element = job_element.find(\"h3\", class_=\"company\")\n",
    "    location_element = job_element.find(\"p\", class_=\"location\")\n",
    "    links = job_element.find_all(\"a\")\n",
    "    for link in links:\n",
    "        if link.text == 'Apply':\n",
    "            link_url = link[\"href\"]\n",
    "            print(title_element.text.strip())\n",
    "            print(company_element.text.strip())\n",
    "            print(location_element.text.strip())\n",
    "            print(f\"Apply here: {link_url}\\n\")"
   ]
  }
 ],
 "metadata": {
  "interpreter": {
   "hash": "494e690407c5c7c9b2fbc0a1227ada2e3d821eefed538763ba3356ad470e06f1"
  },
  "kernelspec": {
   "display_name": "Python 3.9.7 ('base')",
   "language": "python",
   "name": "python3"
  },
  "language_info": {
   "codemirror_mode": {
    "name": "ipython",
    "version": 3
   },
   "file_extension": ".py",
   "mimetype": "text/x-python",
   "name": "python",
   "nbconvert_exporter": "python",
   "pygments_lexer": "ipython3",
   "version": "3.9.12"
  },
  "orig_nbformat": 4
 },
 "nbformat": 4,
 "nbformat_minor": 2
}
