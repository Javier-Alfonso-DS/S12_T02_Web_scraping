{
 "cells": [
  {
   "cell_type": "markdown",
   "metadata": {},
   "source": [
    "# Statement\n",
    "Learn how to do web scraping.\n",
    "\n",
    "Level 1\n",
    "\n",
    "- Exercise 1\n",
    "\n",
    "Perform web scraping of a page of the Madrid Stock Exchange (https://www.bolsamadrid.es) using BeautifulSoup and Selenium.\n",
    "\n",
    "Level 2\n",
    "\n",
    "- Exercise 2\n",
    "\n",
    "Document in a word document the data set generated with the information contained in the different Kaggle archives.\n",
    "\n",
    "Level 3 - Exercise 3\n",
    "\n",
    "Download a web page of your choice and perform web scraping using the Scrapy library."
   ]
  },
  {
   "cell_type": "markdown",
   "metadata": {},
   "source": [
    "# Level 1\n",
    "\n",
    "## - Exercise 1\n",
    "\n",
    "Perform web scraping of a page of the Madrid Stock Exchange (https://www.bolsamadrid.es) using BeautifulSoup and Selenium.\n"
   ]
  },
  {
   "cell_type": "code",
   "execution_count": 8,
   "metadata": {},
   "outputs": [],
   "source": [
    "import pandas as pd\n",
    "import requests\n",
    "from bs4 import BeautifulSoup\n"
   ]
  },
  {
   "cell_type": "code",
   "execution_count": 9,
   "metadata": {},
   "outputs": [],
   "source": [
    "\n",
    "import requests\n",
    "\n",
    "URL = \"https://www.bolsamadrid.es\"\n",
    "page = requests.get(URL)\n",
    "\n",
    "fsock = open('Output_Bolsa_raw.html', 'w')\n",
    "print(page.text, file=fsock)\n",
    "fsock.close()"
   ]
  },
  {
   "cell_type": "code",
   "execution_count": 10,
   "metadata": {},
   "outputs": [],
   "source": [
    "URL = \"https://www.bolsamadrid.es\"\n",
    "page = requests.get(URL)\n",
    "\n",
    "soup = BeautifulSoup(page.content, \"html.parser\")"
   ]
  },
  {
   "cell_type": "markdown",
   "metadata": {},
   "source": [
    "### Let's scrap the web of stock market with BeautifulSoup."
   ]
  },
  {
   "cell_type": "code",
   "execution_count": 11,
   "metadata": {},
   "outputs": [],
   "source": [
    "fsock = open('Output_Bolsa_BeautifulSoup_Prettify.html', 'w')\n",
    "print(soup.prettify(), file=fsock)\n",
    "fsock.close()\n"
   ]
  },
  {
   "cell_type": "markdown",
   "metadata": {},
   "source": [
    "![](2022-03-30-16-07-37.png)"
   ]
  },
  {
   "cell_type": "code",
   "execution_count": 12,
   "metadata": {},
   "outputs": [
    {
     "data": {
      "text/plain": [
       "'\\nNombreÚltimo% Dif.\\nACCIONA169,80000,12ACERINOX10,1050-1,61ACS24,6900-0,96AENA151,85001,10ALMIRALL11,90001,28AMADEUS59,3800-2,17ARCELORMIT.29,6550-1,07B.SANTANDER3,1425-3,26BA.SABADELL0,7608-1,40BANKINTER5,4100-0,73BBVA5,3900-2,02CAIXABANK3,1440-0,60CELLNEX44,34000,70CIE AUTOMOT.21,0800-1,59ENAGAS19,94000,86ENDESA19,32000,84FERROVIAL24,0800-2,07FLUIDRA26,9000-3,24GRIFOLS CL.A16,50505,63IAG1,7080-3,28IBERDROLA9,9380-0,44INDITEX20,8200-2,16INDRA A10,26000,29INM.COLONIAL8,32500,18MAPFRE1,9195-0,54MELIA HOTELS6,8820-1,01MERLIN10,76000,00NATURGY27,24002,33PHARMA MAR70,00003,46R.E.C.18,35002,29REPSOL12,02202,12ROVI67,80000,44SIEMENS GAME16,12502,02SOLARIA19,92006,52TELEFONICA4,41201,29'"
      ]
     },
     "execution_count": 12,
     "metadata": {},
     "output_type": "execute_result"
    }
   ],
   "source": [
    "ibex35 = soup.find(class_=\"TblPort TblAccPort\")\n",
    "ibex35.text"
   ]
  },
  {
   "cell_type": "code",
   "execution_count": 13,
   "metadata": {},
   "outputs": [
    {
     "data": {
      "text/plain": [
       "[['Nombre', 'Último', '% Dif.'],\n",
       " ['ACCIONA', '169,8000', '0,12'],\n",
       " ['ACERINOX', '10,1050', '-1,61'],\n",
       " ['ACS', '24,6900', '-0,96'],\n",
       " ['AENA', '151,8500', '1,10'],\n",
       " ['ALMIRALL', '11,9000', '1,28'],\n",
       " ['AMADEUS', '59,3800', '-2,17'],\n",
       " ['ARCELORMIT.', '29,6550', '-1,07'],\n",
       " ['B.SANTANDER', '3,1425', '-3,26'],\n",
       " ['BA.SABADELL', '0,7608', '-1,40'],\n",
       " ['BANKINTER', '5,4100', '-0,73'],\n",
       " ['BBVA', '5,3900', '-2,02'],\n",
       " ['CAIXABANK', '3,1440', '-0,60'],\n",
       " ['CELLNEX', '44,3400', '0,70'],\n",
       " ['CIE AUTOMOT.', '21,0800', '-1,59'],\n",
       " ['ENAGAS', '19,9400', '0,86'],\n",
       " ['ENDESA', '19,3200', '0,84'],\n",
       " ['FERROVIAL', '24,0800', '-2,07'],\n",
       " ['FLUIDRA', '26,9000', '-3,24'],\n",
       " ['GRIFOLS CL.A', '16,5050', '5,63'],\n",
       " ['IAG', '1,7080', '-3,28'],\n",
       " ['IBERDROLA', '9,9380', '-0,44'],\n",
       " ['INDITEX', '20,8200', '-2,16'],\n",
       " ['INDRA A', '10,2600', '0,29'],\n",
       " ['INM.COLONIAL', '8,3250', '0,18'],\n",
       " ['MAPFRE', '1,9195', '-0,54'],\n",
       " ['MELIA HOTELS', '6,8820', '-1,01'],\n",
       " ['MERLIN', '10,7600', '0,00'],\n",
       " ['NATURGY', '27,2400', '2,33'],\n",
       " ['PHARMA MAR', '70,0000', '3,46'],\n",
       " ['R.E.C.', '18,3500', '2,29'],\n",
       " ['REPSOL', '12,0220', '2,12'],\n",
       " ['ROVI', '67,8000', '0,44'],\n",
       " ['SIEMENS GAME', '16,1250', '2,02'],\n",
       " ['SOLARIA', '19,9200', '6,52'],\n",
       " ['TELEFONICA', '4,4120', '1,29']]"
      ]
     },
     "execution_count": 13,
     "metadata": {},
     "output_type": "execute_result"
    }
   ],
   "source": [
    "# print(ibex35)\n",
    "rows = []\n",
    "for child in ibex35.children:\n",
    "    element = []\n",
    "    for i in child:\n",
    "        if i != '\\n':\n",
    "            element.append(i.text)\n",
    "    if len(element) != 0:\n",
    "        rows.append(element)\n",
    "rows"
   ]
  },
  {
   "cell_type": "markdown",
   "metadata": {},
   "source": [
    "### Collect all them in a dataframe"
   ]
  },
  {
   "cell_type": "code",
   "execution_count": 14,
   "metadata": {},
   "outputs": [
    {
     "data": {
      "text/html": [
       "<div>\n",
       "<style scoped>\n",
       "    .dataframe tbody tr th:only-of-type {\n",
       "        vertical-align: middle;\n",
       "    }\n",
       "\n",
       "    .dataframe tbody tr th {\n",
       "        vertical-align: top;\n",
       "    }\n",
       "\n",
       "    .dataframe thead th {\n",
       "        text-align: right;\n",
       "    }\n",
       "</style>\n",
       "<table border=\"1\" class=\"dataframe\">\n",
       "  <thead>\n",
       "    <tr style=\"text-align: right;\">\n",
       "      <th></th>\n",
       "      <th>Nombre</th>\n",
       "      <th>Último</th>\n",
       "      <th>% Dif.</th>\n",
       "    </tr>\n",
       "  </thead>\n",
       "  <tbody>\n",
       "    <tr>\n",
       "      <th>0</th>\n",
       "      <td>ACCIONA</td>\n",
       "      <td>169,8000</td>\n",
       "      <td>0,12</td>\n",
       "    </tr>\n",
       "    <tr>\n",
       "      <th>1</th>\n",
       "      <td>ACERINOX</td>\n",
       "      <td>10,1050</td>\n",
       "      <td>-1,61</td>\n",
       "    </tr>\n",
       "    <tr>\n",
       "      <th>2</th>\n",
       "      <td>ACS</td>\n",
       "      <td>24,6900</td>\n",
       "      <td>-0,96</td>\n",
       "    </tr>\n",
       "    <tr>\n",
       "      <th>3</th>\n",
       "      <td>AENA</td>\n",
       "      <td>151,8500</td>\n",
       "      <td>1,10</td>\n",
       "    </tr>\n",
       "    <tr>\n",
       "      <th>4</th>\n",
       "      <td>ALMIRALL</td>\n",
       "      <td>11,9000</td>\n",
       "      <td>1,28</td>\n",
       "    </tr>\n",
       "    <tr>\n",
       "      <th>5</th>\n",
       "      <td>AMADEUS</td>\n",
       "      <td>59,3800</td>\n",
       "      <td>-2,17</td>\n",
       "    </tr>\n",
       "    <tr>\n",
       "      <th>6</th>\n",
       "      <td>ARCELORMIT.</td>\n",
       "      <td>29,6550</td>\n",
       "      <td>-1,07</td>\n",
       "    </tr>\n",
       "    <tr>\n",
       "      <th>7</th>\n",
       "      <td>B.SANTANDER</td>\n",
       "      <td>3,1425</td>\n",
       "      <td>-3,26</td>\n",
       "    </tr>\n",
       "    <tr>\n",
       "      <th>8</th>\n",
       "      <td>BA.SABADELL</td>\n",
       "      <td>0,7608</td>\n",
       "      <td>-1,40</td>\n",
       "    </tr>\n",
       "    <tr>\n",
       "      <th>9</th>\n",
       "      <td>BANKINTER</td>\n",
       "      <td>5,4100</td>\n",
       "      <td>-0,73</td>\n",
       "    </tr>\n",
       "    <tr>\n",
       "      <th>10</th>\n",
       "      <td>BBVA</td>\n",
       "      <td>5,3900</td>\n",
       "      <td>-2,02</td>\n",
       "    </tr>\n",
       "    <tr>\n",
       "      <th>11</th>\n",
       "      <td>CAIXABANK</td>\n",
       "      <td>3,1440</td>\n",
       "      <td>-0,60</td>\n",
       "    </tr>\n",
       "    <tr>\n",
       "      <th>12</th>\n",
       "      <td>CELLNEX</td>\n",
       "      <td>44,3400</td>\n",
       "      <td>0,70</td>\n",
       "    </tr>\n",
       "    <tr>\n",
       "      <th>13</th>\n",
       "      <td>CIE AUTOMOT.</td>\n",
       "      <td>21,0800</td>\n",
       "      <td>-1,59</td>\n",
       "    </tr>\n",
       "    <tr>\n",
       "      <th>14</th>\n",
       "      <td>ENAGAS</td>\n",
       "      <td>19,9400</td>\n",
       "      <td>0,86</td>\n",
       "    </tr>\n",
       "    <tr>\n",
       "      <th>15</th>\n",
       "      <td>ENDESA</td>\n",
       "      <td>19,3200</td>\n",
       "      <td>0,84</td>\n",
       "    </tr>\n",
       "    <tr>\n",
       "      <th>16</th>\n",
       "      <td>FERROVIAL</td>\n",
       "      <td>24,0800</td>\n",
       "      <td>-2,07</td>\n",
       "    </tr>\n",
       "    <tr>\n",
       "      <th>17</th>\n",
       "      <td>FLUIDRA</td>\n",
       "      <td>26,9000</td>\n",
       "      <td>-3,24</td>\n",
       "    </tr>\n",
       "    <tr>\n",
       "      <th>18</th>\n",
       "      <td>GRIFOLS CL.A</td>\n",
       "      <td>16,5050</td>\n",
       "      <td>5,63</td>\n",
       "    </tr>\n",
       "    <tr>\n",
       "      <th>19</th>\n",
       "      <td>IAG</td>\n",
       "      <td>1,7080</td>\n",
       "      <td>-3,28</td>\n",
       "    </tr>\n",
       "    <tr>\n",
       "      <th>20</th>\n",
       "      <td>IBERDROLA</td>\n",
       "      <td>9,9380</td>\n",
       "      <td>-0,44</td>\n",
       "    </tr>\n",
       "    <tr>\n",
       "      <th>21</th>\n",
       "      <td>INDITEX</td>\n",
       "      <td>20,8200</td>\n",
       "      <td>-2,16</td>\n",
       "    </tr>\n",
       "    <tr>\n",
       "      <th>22</th>\n",
       "      <td>INDRA A</td>\n",
       "      <td>10,2600</td>\n",
       "      <td>0,29</td>\n",
       "    </tr>\n",
       "    <tr>\n",
       "      <th>23</th>\n",
       "      <td>INM.COLONIAL</td>\n",
       "      <td>8,3250</td>\n",
       "      <td>0,18</td>\n",
       "    </tr>\n",
       "    <tr>\n",
       "      <th>24</th>\n",
       "      <td>MAPFRE</td>\n",
       "      <td>1,9195</td>\n",
       "      <td>-0,54</td>\n",
       "    </tr>\n",
       "    <tr>\n",
       "      <th>25</th>\n",
       "      <td>MELIA HOTELS</td>\n",
       "      <td>6,8820</td>\n",
       "      <td>-1,01</td>\n",
       "    </tr>\n",
       "    <tr>\n",
       "      <th>26</th>\n",
       "      <td>MERLIN</td>\n",
       "      <td>10,7600</td>\n",
       "      <td>0,00</td>\n",
       "    </tr>\n",
       "    <tr>\n",
       "      <th>27</th>\n",
       "      <td>NATURGY</td>\n",
       "      <td>27,2400</td>\n",
       "      <td>2,33</td>\n",
       "    </tr>\n",
       "    <tr>\n",
       "      <th>28</th>\n",
       "      <td>PHARMA MAR</td>\n",
       "      <td>70,0000</td>\n",
       "      <td>3,46</td>\n",
       "    </tr>\n",
       "    <tr>\n",
       "      <th>29</th>\n",
       "      <td>R.E.C.</td>\n",
       "      <td>18,3500</td>\n",
       "      <td>2,29</td>\n",
       "    </tr>\n",
       "    <tr>\n",
       "      <th>30</th>\n",
       "      <td>REPSOL</td>\n",
       "      <td>12,0220</td>\n",
       "      <td>2,12</td>\n",
       "    </tr>\n",
       "    <tr>\n",
       "      <th>31</th>\n",
       "      <td>ROVI</td>\n",
       "      <td>67,8000</td>\n",
       "      <td>0,44</td>\n",
       "    </tr>\n",
       "    <tr>\n",
       "      <th>32</th>\n",
       "      <td>SIEMENS GAME</td>\n",
       "      <td>16,1250</td>\n",
       "      <td>2,02</td>\n",
       "    </tr>\n",
       "    <tr>\n",
       "      <th>33</th>\n",
       "      <td>SOLARIA</td>\n",
       "      <td>19,9200</td>\n",
       "      <td>6,52</td>\n",
       "    </tr>\n",
       "    <tr>\n",
       "      <th>34</th>\n",
       "      <td>TELEFONICA</td>\n",
       "      <td>4,4120</td>\n",
       "      <td>1,29</td>\n",
       "    </tr>\n",
       "  </tbody>\n",
       "</table>\n",
       "</div>"
      ],
      "text/plain": [
       "          Nombre    Último % Dif.\n",
       "0        ACCIONA  169,8000   0,12\n",
       "1       ACERINOX   10,1050  -1,61\n",
       "2            ACS   24,6900  -0,96\n",
       "3           AENA  151,8500   1,10\n",
       "4       ALMIRALL   11,9000   1,28\n",
       "5        AMADEUS   59,3800  -2,17\n",
       "6    ARCELORMIT.   29,6550  -1,07\n",
       "7    B.SANTANDER    3,1425  -3,26\n",
       "8    BA.SABADELL    0,7608  -1,40\n",
       "9      BANKINTER    5,4100  -0,73\n",
       "10          BBVA    5,3900  -2,02\n",
       "11     CAIXABANK    3,1440  -0,60\n",
       "12       CELLNEX   44,3400   0,70\n",
       "13  CIE AUTOMOT.   21,0800  -1,59\n",
       "14        ENAGAS   19,9400   0,86\n",
       "15        ENDESA   19,3200   0,84\n",
       "16     FERROVIAL   24,0800  -2,07\n",
       "17       FLUIDRA   26,9000  -3,24\n",
       "18  GRIFOLS CL.A   16,5050   5,63\n",
       "19           IAG    1,7080  -3,28\n",
       "20     IBERDROLA    9,9380  -0,44\n",
       "21       INDITEX   20,8200  -2,16\n",
       "22       INDRA A   10,2600   0,29\n",
       "23  INM.COLONIAL    8,3250   0,18\n",
       "24        MAPFRE    1,9195  -0,54\n",
       "25  MELIA HOTELS    6,8820  -1,01\n",
       "26        MERLIN   10,7600   0,00\n",
       "27       NATURGY   27,2400   2,33\n",
       "28    PHARMA MAR   70,0000   3,46\n",
       "29        R.E.C.   18,3500   2,29\n",
       "30        REPSOL   12,0220   2,12\n",
       "31          ROVI   67,8000   0,44\n",
       "32  SIEMENS GAME   16,1250   2,02\n",
       "33       SOLARIA   19,9200   6,52\n",
       "34    TELEFONICA    4,4120   1,29"
      ]
     },
     "execution_count": 14,
     "metadata": {},
     "output_type": "execute_result"
    }
   ],
   "source": [
    "df_scrap = pd.DataFrame(rows[1::],columns=rows[0])\n",
    "df_scrap"
   ]
  },
  {
   "cell_type": "markdown",
   "metadata": {},
   "source": [
    "### Let's now do something similar with Selenium"
   ]
  },
  {
   "cell_type": "code",
   "execution_count": 3,
   "metadata": {},
   "outputs": [
    {
     "name": "stderr",
     "output_type": "stream",
     "text": [
      "C:\\Users\\jalor\\AppData\\Local\\Temp\\ipykernel_31988\\1996872044.py:4: DeprecationWarning: use setter for headless property instead of set_headless\n",
      "  opts.set_headless()\n"
     ]
    },
    {
     "ename": "SessionNotCreatedException",
     "evalue": "Message: Expected browser binary location, but unable to find binary in default location, no 'moz:firefoxOptions.binary' capability provided, and no binary flag set on the command line\n",
     "output_type": "error",
     "traceback": [
      "\u001b[1;31m---------------------------------------------------------------------------\u001b[0m",
      "\u001b[1;31mSessionNotCreatedException\u001b[0m                Traceback (most recent call last)",
      "\u001b[1;32mc:\\Personal\\Python Scripts\\S12_T02_Web_scraping\\S12_T02_Web_scraping.ipynb Cell 14'\u001b[0m in \u001b[0;36m<cell line: 6>\u001b[1;34m()\u001b[0m\n\u001b[0;32m      <a href='vscode-notebook-cell:/c%3A/Personal/Python%20Scripts/S12_T02_Web_scraping/S12_T02_Web_scraping.ipynb#ch0000013?line=3'>4</a>\u001b[0m opts\u001b[39m.\u001b[39mset_headless()\n\u001b[0;32m      <a href='vscode-notebook-cell:/c%3A/Personal/Python%20Scripts/S12_T02_Web_scraping/S12_T02_Web_scraping.ipynb#ch0000013?line=4'>5</a>\u001b[0m \u001b[39massert\u001b[39;00m opts\u001b[39m.\u001b[39mheadless  \u001b[39m# Operating in headless mode\u001b[39;00m\n\u001b[1;32m----> <a href='vscode-notebook-cell:/c%3A/Personal/Python%20Scripts/S12_T02_Web_scraping/S12_T02_Web_scraping.ipynb#ch0000013?line=5'>6</a>\u001b[0m browser \u001b[39m=\u001b[39m Firefox(options\u001b[39m=\u001b[39;49mopts)\n\u001b[0;32m      <a href='vscode-notebook-cell:/c%3A/Personal/Python%20Scripts/S12_T02_Web_scraping/S12_T02_Web_scraping.ipynb#ch0000013?line=6'>7</a>\u001b[0m browser\u001b[39m.\u001b[39mget(\u001b[39m'\u001b[39m\u001b[39mhttps://www.bolsamadrid.es\u001b[39m\u001b[39m'\u001b[39m)\n",
      "File \u001b[1;32m~\\anaconda3\\envs\\ITAcademy\\lib\\site-packages\\selenium\\webdriver\\firefox\\webdriver.py:170\u001b[0m, in \u001b[0;36mWebDriver.__init__\u001b[1;34m(self, firefox_profile, firefox_binary, timeout, capabilities, proxy, executable_path, options, service_log_path, firefox_options, service_args, desired_capabilities, log_path, keep_alive)\u001b[0m\n\u001b[0;32m    <a href='file:///c%3A/Users/jalor/anaconda3/envs/ITAcademy/lib/site-packages/selenium/webdriver/firefox/webdriver.py?line=165'>166</a>\u001b[0m     capabilities\u001b[39m.\u001b[39mupdate(options\u001b[39m.\u001b[39mto_capabilities())\n\u001b[0;32m    <a href='file:///c%3A/Users/jalor/anaconda3/envs/ITAcademy/lib/site-packages/selenium/webdriver/firefox/webdriver.py?line=167'>168</a>\u001b[0m     executor \u001b[39m=\u001b[39m FirefoxRemoteConnection(\n\u001b[0;32m    <a href='file:///c%3A/Users/jalor/anaconda3/envs/ITAcademy/lib/site-packages/selenium/webdriver/firefox/webdriver.py?line=168'>169</a>\u001b[0m         remote_server_addr\u001b[39m=\u001b[39m\u001b[39mself\u001b[39m\u001b[39m.\u001b[39mservice\u001b[39m.\u001b[39mservice_url)\n\u001b[1;32m--> <a href='file:///c%3A/Users/jalor/anaconda3/envs/ITAcademy/lib/site-packages/selenium/webdriver/firefox/webdriver.py?line=169'>170</a>\u001b[0m     RemoteWebDriver\u001b[39m.\u001b[39;49m\u001b[39m__init__\u001b[39;49m(\n\u001b[0;32m    <a href='file:///c%3A/Users/jalor/anaconda3/envs/ITAcademy/lib/site-packages/selenium/webdriver/firefox/webdriver.py?line=170'>171</a>\u001b[0m         \u001b[39mself\u001b[39;49m,\n\u001b[0;32m    <a href='file:///c%3A/Users/jalor/anaconda3/envs/ITAcademy/lib/site-packages/selenium/webdriver/firefox/webdriver.py?line=171'>172</a>\u001b[0m         command_executor\u001b[39m=\u001b[39;49mexecutor,\n\u001b[0;32m    <a href='file:///c%3A/Users/jalor/anaconda3/envs/ITAcademy/lib/site-packages/selenium/webdriver/firefox/webdriver.py?line=172'>173</a>\u001b[0m         desired_capabilities\u001b[39m=\u001b[39;49mcapabilities,\n\u001b[0;32m    <a href='file:///c%3A/Users/jalor/anaconda3/envs/ITAcademy/lib/site-packages/selenium/webdriver/firefox/webdriver.py?line=173'>174</a>\u001b[0m         keep_alive\u001b[39m=\u001b[39;49m\u001b[39mTrue\u001b[39;49;00m)\n\u001b[0;32m    <a href='file:///c%3A/Users/jalor/anaconda3/envs/ITAcademy/lib/site-packages/selenium/webdriver/firefox/webdriver.py?line=175'>176</a>\u001b[0m \u001b[39m# Selenium remote\u001b[39;00m\n\u001b[0;32m    <a href='file:///c%3A/Users/jalor/anaconda3/envs/ITAcademy/lib/site-packages/selenium/webdriver/firefox/webdriver.py?line=176'>177</a>\u001b[0m \u001b[39melse\u001b[39;00m:\n\u001b[0;32m    <a href='file:///c%3A/Users/jalor/anaconda3/envs/ITAcademy/lib/site-packages/selenium/webdriver/firefox/webdriver.py?line=177'>178</a>\u001b[0m     \u001b[39mif\u001b[39;00m \u001b[39mself\u001b[39m\u001b[39m.\u001b[39mbinary \u001b[39mis\u001b[39;00m \u001b[39mNone\u001b[39;00m:\n",
      "File \u001b[1;32m~\\anaconda3\\envs\\ITAcademy\\lib\\site-packages\\selenium\\webdriver\\remote\\webdriver.py:157\u001b[0m, in \u001b[0;36mWebDriver.__init__\u001b[1;34m(self, command_executor, desired_capabilities, browser_profile, proxy, keep_alive, file_detector, options)\u001b[0m\n\u001b[0;32m    <a href='file:///c%3A/Users/jalor/anaconda3/envs/ITAcademy/lib/site-packages/selenium/webdriver/remote/webdriver.py?line=153'>154</a>\u001b[0m \u001b[39mif\u001b[39;00m browser_profile \u001b[39mis\u001b[39;00m \u001b[39mnot\u001b[39;00m \u001b[39mNone\u001b[39;00m:\n\u001b[0;32m    <a href='file:///c%3A/Users/jalor/anaconda3/envs/ITAcademy/lib/site-packages/selenium/webdriver/remote/webdriver.py?line=154'>155</a>\u001b[0m     warnings\u001b[39m.\u001b[39mwarn(\u001b[39m\"\u001b[39m\u001b[39mPlease use FirefoxOptions to set browser profile\u001b[39m\u001b[39m\"\u001b[39m,\n\u001b[0;32m    <a href='file:///c%3A/Users/jalor/anaconda3/envs/ITAcademy/lib/site-packages/selenium/webdriver/remote/webdriver.py?line=155'>156</a>\u001b[0m                   \u001b[39mDeprecationWarning\u001b[39;00m, stacklevel\u001b[39m=\u001b[39m\u001b[39m2\u001b[39m)\n\u001b[1;32m--> <a href='file:///c%3A/Users/jalor/anaconda3/envs/ITAcademy/lib/site-packages/selenium/webdriver/remote/webdriver.py?line=156'>157</a>\u001b[0m \u001b[39mself\u001b[39;49m\u001b[39m.\u001b[39;49mstart_session(capabilities, browser_profile)\n\u001b[0;32m    <a href='file:///c%3A/Users/jalor/anaconda3/envs/ITAcademy/lib/site-packages/selenium/webdriver/remote/webdriver.py?line=157'>158</a>\u001b[0m \u001b[39mself\u001b[39m\u001b[39m.\u001b[39m_switch_to \u001b[39m=\u001b[39m SwitchTo(\u001b[39mself\u001b[39m)\n\u001b[0;32m    <a href='file:///c%3A/Users/jalor/anaconda3/envs/ITAcademy/lib/site-packages/selenium/webdriver/remote/webdriver.py?line=158'>159</a>\u001b[0m \u001b[39mself\u001b[39m\u001b[39m.\u001b[39m_mobile \u001b[39m=\u001b[39m Mobile(\u001b[39mself\u001b[39m)\n",
      "File \u001b[1;32m~\\anaconda3\\envs\\ITAcademy\\lib\\site-packages\\selenium\\webdriver\\remote\\webdriver.py:252\u001b[0m, in \u001b[0;36mWebDriver.start_session\u001b[1;34m(self, capabilities, browser_profile)\u001b[0m\n\u001b[0;32m    <a href='file:///c%3A/Users/jalor/anaconda3/envs/ITAcademy/lib/site-packages/selenium/webdriver/remote/webdriver.py?line=248'>249</a>\u001b[0m w3c_caps \u001b[39m=\u001b[39m _make_w3c_caps(capabilities)\n\u001b[0;32m    <a href='file:///c%3A/Users/jalor/anaconda3/envs/ITAcademy/lib/site-packages/selenium/webdriver/remote/webdriver.py?line=249'>250</a>\u001b[0m parameters \u001b[39m=\u001b[39m {\u001b[39m\"\u001b[39m\u001b[39mcapabilities\u001b[39m\u001b[39m\"\u001b[39m: w3c_caps,\n\u001b[0;32m    <a href='file:///c%3A/Users/jalor/anaconda3/envs/ITAcademy/lib/site-packages/selenium/webdriver/remote/webdriver.py?line=250'>251</a>\u001b[0m               \u001b[39m\"\u001b[39m\u001b[39mdesiredCapabilities\u001b[39m\u001b[39m\"\u001b[39m: capabilities}\n\u001b[1;32m--> <a href='file:///c%3A/Users/jalor/anaconda3/envs/ITAcademy/lib/site-packages/selenium/webdriver/remote/webdriver.py?line=251'>252</a>\u001b[0m response \u001b[39m=\u001b[39m \u001b[39mself\u001b[39;49m\u001b[39m.\u001b[39;49mexecute(Command\u001b[39m.\u001b[39;49mNEW_SESSION, parameters)\n\u001b[0;32m    <a href='file:///c%3A/Users/jalor/anaconda3/envs/ITAcademy/lib/site-packages/selenium/webdriver/remote/webdriver.py?line=252'>253</a>\u001b[0m \u001b[39mif\u001b[39;00m \u001b[39m'\u001b[39m\u001b[39msessionId\u001b[39m\u001b[39m'\u001b[39m \u001b[39mnot\u001b[39;00m \u001b[39min\u001b[39;00m response:\n\u001b[0;32m    <a href='file:///c%3A/Users/jalor/anaconda3/envs/ITAcademy/lib/site-packages/selenium/webdriver/remote/webdriver.py?line=253'>254</a>\u001b[0m     response \u001b[39m=\u001b[39m response[\u001b[39m'\u001b[39m\u001b[39mvalue\u001b[39m\u001b[39m'\u001b[39m]\n",
      "File \u001b[1;32m~\\anaconda3\\envs\\ITAcademy\\lib\\site-packages\\selenium\\webdriver\\remote\\webdriver.py:321\u001b[0m, in \u001b[0;36mWebDriver.execute\u001b[1;34m(self, driver_command, params)\u001b[0m\n\u001b[0;32m    <a href='file:///c%3A/Users/jalor/anaconda3/envs/ITAcademy/lib/site-packages/selenium/webdriver/remote/webdriver.py?line=318'>319</a>\u001b[0m response \u001b[39m=\u001b[39m \u001b[39mself\u001b[39m\u001b[39m.\u001b[39mcommand_executor\u001b[39m.\u001b[39mexecute(driver_command, params)\n\u001b[0;32m    <a href='file:///c%3A/Users/jalor/anaconda3/envs/ITAcademy/lib/site-packages/selenium/webdriver/remote/webdriver.py?line=319'>320</a>\u001b[0m \u001b[39mif\u001b[39;00m response:\n\u001b[1;32m--> <a href='file:///c%3A/Users/jalor/anaconda3/envs/ITAcademy/lib/site-packages/selenium/webdriver/remote/webdriver.py?line=320'>321</a>\u001b[0m     \u001b[39mself\u001b[39;49m\u001b[39m.\u001b[39;49merror_handler\u001b[39m.\u001b[39;49mcheck_response(response)\n\u001b[0;32m    <a href='file:///c%3A/Users/jalor/anaconda3/envs/ITAcademy/lib/site-packages/selenium/webdriver/remote/webdriver.py?line=321'>322</a>\u001b[0m     response[\u001b[39m'\u001b[39m\u001b[39mvalue\u001b[39m\u001b[39m'\u001b[39m] \u001b[39m=\u001b[39m \u001b[39mself\u001b[39m\u001b[39m.\u001b[39m_unwrap_value(\n\u001b[0;32m    <a href='file:///c%3A/Users/jalor/anaconda3/envs/ITAcademy/lib/site-packages/selenium/webdriver/remote/webdriver.py?line=322'>323</a>\u001b[0m         response\u001b[39m.\u001b[39mget(\u001b[39m'\u001b[39m\u001b[39mvalue\u001b[39m\u001b[39m'\u001b[39m, \u001b[39mNone\u001b[39;00m))\n\u001b[0;32m    <a href='file:///c%3A/Users/jalor/anaconda3/envs/ITAcademy/lib/site-packages/selenium/webdriver/remote/webdriver.py?line=323'>324</a>\u001b[0m     \u001b[39mreturn\u001b[39;00m response\n",
      "File \u001b[1;32m~\\anaconda3\\envs\\ITAcademy\\lib\\site-packages\\selenium\\webdriver\\remote\\errorhandler.py:242\u001b[0m, in \u001b[0;36mErrorHandler.check_response\u001b[1;34m(self, response)\u001b[0m\n\u001b[0;32m    <a href='file:///c%3A/Users/jalor/anaconda3/envs/ITAcademy/lib/site-packages/selenium/webdriver/remote/errorhandler.py?line=239'>240</a>\u001b[0m         alert_text \u001b[39m=\u001b[39m value[\u001b[39m'\u001b[39m\u001b[39malert\u001b[39m\u001b[39m'\u001b[39m]\u001b[39m.\u001b[39mget(\u001b[39m'\u001b[39m\u001b[39mtext\u001b[39m\u001b[39m'\u001b[39m)\n\u001b[0;32m    <a href='file:///c%3A/Users/jalor/anaconda3/envs/ITAcademy/lib/site-packages/selenium/webdriver/remote/errorhandler.py?line=240'>241</a>\u001b[0m     \u001b[39mraise\u001b[39;00m exception_class(message, screen, stacktrace, alert_text)\n\u001b[1;32m--> <a href='file:///c%3A/Users/jalor/anaconda3/envs/ITAcademy/lib/site-packages/selenium/webdriver/remote/errorhandler.py?line=241'>242</a>\u001b[0m \u001b[39mraise\u001b[39;00m exception_class(message, screen, stacktrace)\n",
      "\u001b[1;31mSessionNotCreatedException\u001b[0m: Message: Expected browser binary location, but unable to find binary in default location, no 'moz:firefoxOptions.binary' capability provided, and no binary flag set on the command line\n"
     ]
    }
   ],
   "source": [
    "from selenium.webdriver import Firefox\n",
    "from selenium.webdriver.firefox.options import Options\n",
    "opts = Options()\n",
    "opts.set_headless()\n",
    "assert opts.headless  # Operating in headless mode\n",
    "browser = Firefox(options=opts)\n",
    "browser.get('https://www.bolsamadrid.es')"
   ]
  },
  {
   "cell_type": "code",
   "execution_count": 16,
   "metadata": {},
   "outputs": [
    {
     "ename": "NoSuchElementException",
     "evalue": "Message: no such element: Unable to locate element: {\"method\":\"css selector\",\"selector\":\".TblPort TblAccPort\"}\n  (Session info: headless chrome=100.0.4896.60)\n",
     "output_type": "error",
     "traceback": [
      "\u001b[1;31m---------------------------------------------------------------------------\u001b[0m",
      "\u001b[1;31mNoSuchElementException\u001b[0m                    Traceback (most recent call last)",
      "\u001b[1;32mc:\\Personal\\Python Scripts\\S12_T02_Web_scraping\\S12_T02_Web_scraping.ipynb Cell 15'\u001b[0m in \u001b[0;36m<cell line: 1>\u001b[1;34m()\u001b[0m\n\u001b[1;32m----> <a href='vscode-notebook-cell:/c%3A/Personal/Python%20Scripts/S12_T02_Web_scraping/S12_T02_Web_scraping.ipynb#ch0000016?line=0'>1</a>\u001b[0m ibex35s \u001b[39m=\u001b[39m browser\u001b[39m.\u001b[39;49mfind_element_by_class_name(name\u001b[39m=\u001b[39;49m\u001b[39m'\u001b[39;49m\u001b[39mTblPort TblAccPort\u001b[39;49m\u001b[39m'\u001b[39;49m)\n",
      "File \u001b[1;32m~\\anaconda3\\envs\\ITAcademy\\lib\\site-packages\\selenium\\webdriver\\remote\\webdriver.py:564\u001b[0m, in \u001b[0;36mWebDriver.find_element_by_class_name\u001b[1;34m(self, name)\u001b[0m\n\u001b[0;32m    <a href='file:///c%3A/Users/jalor/anaconda3/envs/ITAcademy/lib/site-packages/selenium/webdriver/remote/webdriver.py?line=547'>548</a>\u001b[0m \u001b[39mdef\u001b[39;00m \u001b[39mfind_element_by_class_name\u001b[39m(\u001b[39mself\u001b[39m, name):\n\u001b[0;32m    <a href='file:///c%3A/Users/jalor/anaconda3/envs/ITAcademy/lib/site-packages/selenium/webdriver/remote/webdriver.py?line=548'>549</a>\u001b[0m     \u001b[39m\"\"\"\u001b[39;00m\n\u001b[0;32m    <a href='file:///c%3A/Users/jalor/anaconda3/envs/ITAcademy/lib/site-packages/selenium/webdriver/remote/webdriver.py?line=549'>550</a>\u001b[0m \u001b[39m    Finds an element by class name.\u001b[39;00m\n\u001b[0;32m    <a href='file:///c%3A/Users/jalor/anaconda3/envs/ITAcademy/lib/site-packages/selenium/webdriver/remote/webdriver.py?line=550'>551</a>\u001b[0m \n\u001b[1;32m   (...)\u001b[0m\n\u001b[0;32m    <a href='file:///c%3A/Users/jalor/anaconda3/envs/ITAcademy/lib/site-packages/selenium/webdriver/remote/webdriver.py?line=561'>562</a>\u001b[0m \u001b[39m        element = driver.find_element_by_class_name('foo')\u001b[39;00m\n\u001b[0;32m    <a href='file:///c%3A/Users/jalor/anaconda3/envs/ITAcademy/lib/site-packages/selenium/webdriver/remote/webdriver.py?line=562'>563</a>\u001b[0m \u001b[39m    \"\"\"\u001b[39;00m\n\u001b[1;32m--> <a href='file:///c%3A/Users/jalor/anaconda3/envs/ITAcademy/lib/site-packages/selenium/webdriver/remote/webdriver.py?line=563'>564</a>\u001b[0m     \u001b[39mreturn\u001b[39;00m \u001b[39mself\u001b[39;49m\u001b[39m.\u001b[39;49mfind_element(by\u001b[39m=\u001b[39;49mBy\u001b[39m.\u001b[39;49mCLASS_NAME, value\u001b[39m=\u001b[39;49mname)\n",
      "File \u001b[1;32m~\\anaconda3\\envs\\ITAcademy\\lib\\site-packages\\selenium\\webdriver\\remote\\webdriver.py:976\u001b[0m, in \u001b[0;36mWebDriver.find_element\u001b[1;34m(self, by, value)\u001b[0m\n\u001b[0;32m    <a href='file:///c%3A/Users/jalor/anaconda3/envs/ITAcademy/lib/site-packages/selenium/webdriver/remote/webdriver.py?line=973'>974</a>\u001b[0m         by \u001b[39m=\u001b[39m By\u001b[39m.\u001b[39mCSS_SELECTOR\n\u001b[0;32m    <a href='file:///c%3A/Users/jalor/anaconda3/envs/ITAcademy/lib/site-packages/selenium/webdriver/remote/webdriver.py?line=974'>975</a>\u001b[0m         value \u001b[39m=\u001b[39m \u001b[39m'\u001b[39m\u001b[39m[name=\u001b[39m\u001b[39m\"\u001b[39m\u001b[39m%s\u001b[39;00m\u001b[39m\"\u001b[39m\u001b[39m]\u001b[39m\u001b[39m'\u001b[39m \u001b[39m%\u001b[39m value\n\u001b[1;32m--> <a href='file:///c%3A/Users/jalor/anaconda3/envs/ITAcademy/lib/site-packages/selenium/webdriver/remote/webdriver.py?line=975'>976</a>\u001b[0m \u001b[39mreturn\u001b[39;00m \u001b[39mself\u001b[39;49m\u001b[39m.\u001b[39;49mexecute(Command\u001b[39m.\u001b[39;49mFIND_ELEMENT, {\n\u001b[0;32m    <a href='file:///c%3A/Users/jalor/anaconda3/envs/ITAcademy/lib/site-packages/selenium/webdriver/remote/webdriver.py?line=976'>977</a>\u001b[0m     \u001b[39m'\u001b[39;49m\u001b[39musing\u001b[39;49m\u001b[39m'\u001b[39;49m: by,\n\u001b[0;32m    <a href='file:///c%3A/Users/jalor/anaconda3/envs/ITAcademy/lib/site-packages/selenium/webdriver/remote/webdriver.py?line=977'>978</a>\u001b[0m     \u001b[39m'\u001b[39;49m\u001b[39mvalue\u001b[39;49m\u001b[39m'\u001b[39;49m: value})[\u001b[39m'\u001b[39m\u001b[39mvalue\u001b[39m\u001b[39m'\u001b[39m]\n",
      "File \u001b[1;32m~\\anaconda3\\envs\\ITAcademy\\lib\\site-packages\\selenium\\webdriver\\remote\\webdriver.py:321\u001b[0m, in \u001b[0;36mWebDriver.execute\u001b[1;34m(self, driver_command, params)\u001b[0m\n\u001b[0;32m    <a href='file:///c%3A/Users/jalor/anaconda3/envs/ITAcademy/lib/site-packages/selenium/webdriver/remote/webdriver.py?line=318'>319</a>\u001b[0m response \u001b[39m=\u001b[39m \u001b[39mself\u001b[39m\u001b[39m.\u001b[39mcommand_executor\u001b[39m.\u001b[39mexecute(driver_command, params)\n\u001b[0;32m    <a href='file:///c%3A/Users/jalor/anaconda3/envs/ITAcademy/lib/site-packages/selenium/webdriver/remote/webdriver.py?line=319'>320</a>\u001b[0m \u001b[39mif\u001b[39;00m response:\n\u001b[1;32m--> <a href='file:///c%3A/Users/jalor/anaconda3/envs/ITAcademy/lib/site-packages/selenium/webdriver/remote/webdriver.py?line=320'>321</a>\u001b[0m     \u001b[39mself\u001b[39;49m\u001b[39m.\u001b[39;49merror_handler\u001b[39m.\u001b[39;49mcheck_response(response)\n\u001b[0;32m    <a href='file:///c%3A/Users/jalor/anaconda3/envs/ITAcademy/lib/site-packages/selenium/webdriver/remote/webdriver.py?line=321'>322</a>\u001b[0m     response[\u001b[39m'\u001b[39m\u001b[39mvalue\u001b[39m\u001b[39m'\u001b[39m] \u001b[39m=\u001b[39m \u001b[39mself\u001b[39m\u001b[39m.\u001b[39m_unwrap_value(\n\u001b[0;32m    <a href='file:///c%3A/Users/jalor/anaconda3/envs/ITAcademy/lib/site-packages/selenium/webdriver/remote/webdriver.py?line=322'>323</a>\u001b[0m         response\u001b[39m.\u001b[39mget(\u001b[39m'\u001b[39m\u001b[39mvalue\u001b[39m\u001b[39m'\u001b[39m, \u001b[39mNone\u001b[39;00m))\n\u001b[0;32m    <a href='file:///c%3A/Users/jalor/anaconda3/envs/ITAcademy/lib/site-packages/selenium/webdriver/remote/webdriver.py?line=323'>324</a>\u001b[0m     \u001b[39mreturn\u001b[39;00m response\n",
      "File \u001b[1;32m~\\anaconda3\\envs\\ITAcademy\\lib\\site-packages\\selenium\\webdriver\\remote\\errorhandler.py:242\u001b[0m, in \u001b[0;36mErrorHandler.check_response\u001b[1;34m(self, response)\u001b[0m\n\u001b[0;32m    <a href='file:///c%3A/Users/jalor/anaconda3/envs/ITAcademy/lib/site-packages/selenium/webdriver/remote/errorhandler.py?line=239'>240</a>\u001b[0m         alert_text \u001b[39m=\u001b[39m value[\u001b[39m'\u001b[39m\u001b[39malert\u001b[39m\u001b[39m'\u001b[39m]\u001b[39m.\u001b[39mget(\u001b[39m'\u001b[39m\u001b[39mtext\u001b[39m\u001b[39m'\u001b[39m)\n\u001b[0;32m    <a href='file:///c%3A/Users/jalor/anaconda3/envs/ITAcademy/lib/site-packages/selenium/webdriver/remote/errorhandler.py?line=240'>241</a>\u001b[0m     \u001b[39mraise\u001b[39;00m exception_class(message, screen, stacktrace, alert_text)\n\u001b[1;32m--> <a href='file:///c%3A/Users/jalor/anaconda3/envs/ITAcademy/lib/site-packages/selenium/webdriver/remote/errorhandler.py?line=241'>242</a>\u001b[0m \u001b[39mraise\u001b[39;00m exception_class(message, screen, stacktrace)\n",
      "\u001b[1;31mNoSuchElementException\u001b[0m: Message: no such element: Unable to locate element: {\"method\":\"css selector\",\"selector\":\".TblPort TblAccPort\"}\n  (Session info: headless chrome=100.0.4896.60)\n"
     ]
    }
   ],
   "source": [
    "ibex35s = browser.find_element_by_class_name(name='TblPort TblAccPort')\n"
   ]
  },
  {
   "cell_type": "markdown",
   "metadata": {},
   "source": [
    "\n",
    "# Level 2\n",
    "\n",
    "## - Exercise 2\n",
    "\n",
    "Document in a word document the data set generated with the information contained in the different Kaggle archives.\n"
   ]
  },
  {
   "cell_type": "markdown",
   "metadata": {},
   "source": [
    "\n",
    "# Level 3 \n",
    "\n",
    "## - Exercise 3\n",
    "\n",
    "Download a web page of your choice and perform web scraping using the Scrapy library."
   ]
  }
 ],
 "metadata": {
  "interpreter": {
   "hash": "494e690407c5c7c9b2fbc0a1227ada2e3d821eefed538763ba3356ad470e06f1"
  },
  "kernelspec": {
   "display_name": "Python 3.9.7 ('base')",
   "language": "python",
   "name": "python3"
  },
  "language_info": {
   "codemirror_mode": {
    "name": "ipython",
    "version": 3
   },
   "file_extension": ".py",
   "mimetype": "text/x-python",
   "name": "python",
   "nbconvert_exporter": "python",
   "pygments_lexer": "ipython3",
   "version": "3.9.12"
  },
  "orig_nbformat": 4
 },
 "nbformat": 4,
 "nbformat_minor": 2
}
