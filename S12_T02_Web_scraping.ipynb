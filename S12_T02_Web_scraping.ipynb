{
 "cells": [
  {
   "cell_type": "markdown",
   "metadata": {},
   "source": [
    "# Statement\n",
    "Learn how to do web scraping.\n",
    "\n",
    "Level 1\n",
    "\n",
    "- Exercise 1\n",
    "\n",
    "Perform web scraping of a page of the Madrid Stock Exchange (https://www.bolsamadrid.es) using BeautifulSoup and Selenium.\n",
    "\n",
    "Level 2\n",
    "\n",
    "- Exercise 2\n",
    "\n",
    "Document in a word document the data set generated with the information contained in the different Kaggle archives.\n",
    "\n",
    "Level 3 - Exercise 3\n",
    "\n",
    "Download a web page of your choice and perform web scraping using the Scrapy library."
   ]
  },
  {
   "cell_type": "markdown",
   "metadata": {},
   "source": [
    "# Level 1\n",
    "\n",
    "## - Exercise 1\n",
    "\n",
    "Perform web scraping of a page of the Madrid Stock Exchange (https://www.bolsamadrid.es) using BeautifulSoup and Selenium.\n"
   ]
  },
  {
   "cell_type": "code",
   "execution_count": 1,
   "metadata": {},
   "outputs": [],
   "source": [
    "import requests\n",
    "from bs4 import BeautifulSoup\n"
   ]
  },
  {
   "cell_type": "code",
   "execution_count": 2,
   "metadata": {},
   "outputs": [],
   "source": [
    "\n",
    "import requests\n",
    "\n",
    "URL = \"https://www.bolsamadrid.es\"\n",
    "page = requests.get(URL)\n",
    "\n",
    "fsock = open('Output_Bolsa_raw.html', 'w')\n",
    "print(page.text, file=fsock)\n",
    "fsock.close()"
   ]
  },
  {
   "cell_type": "code",
   "execution_count": 3,
   "metadata": {},
   "outputs": [],
   "source": [
    "URL = \"https://www.bolsamadrid.es\"\n",
    "page = requests.get(URL)\n",
    "\n",
    "soup = BeautifulSoup(page.content, \"html.parser\")"
   ]
  },
  {
   "cell_type": "markdown",
   "metadata": {},
   "source": [
    "### Let's scrap the web of stock market to take the values of the shares."
   ]
  },
  {
   "cell_type": "code",
   "execution_count": 4,
   "metadata": {},
   "outputs": [],
   "source": [
    "fsock = open('Output_Bolsa_BeautifulSoup_Prettify.html', 'w')\n",
    "print(soup.prettify(), file=fsock)\n",
    "fsock.close()\n"
   ]
  },
  {
   "cell_type": "code",
   "execution_count": 5,
   "metadata": {},
   "outputs": [],
   "source": [
    "results = soup.find(class_=\"TblPort TblAccPort\")\n",
    "# list(results.children)\n",
    "# print(results.prettify())"
   ]
  },
  {
   "cell_type": "code",
   "execution_count": 7,
   "metadata": {},
   "outputs": [
    {
     "name": "stdout",
     "output_type": "stream",
     "text": [
      "ACCIONA\n",
      "ACERINOX\n",
      "ACS\n",
      "AENA\n",
      "ALMIRALL\n",
      "AMADEUS\n",
      "ARCELORMIT.\n",
      "B.SANTANDER\n",
      "BA.SABADELL\n",
      "BANKINTER\n",
      "BBVA\n",
      "CAIXABANK\n",
      "CELLNEX\n",
      "CIE AUTOMOT.\n",
      "ENAGAS\n",
      "ENDESA\n",
      "FERROVIAL\n",
      "FLUIDRA\n",
      "GRIFOLS CL.A\n",
      "IAG\n",
      "IBERDROLA\n",
      "INDITEX\n",
      "INDRA A\n",
      "INM.COLONIAL\n",
      "MAPFRE\n",
      "MELIA HOTELS\n",
      "MERLIN\n",
      "NATURGY\n",
      "PHARMA MAR\n",
      "R.E.C.\n",
      "REPSOL\n",
      "ROVI\n",
      "SIEMENS GAME\n",
      "SOLARIA\n",
      "TELEFONICA\n"
     ]
    }
   ],
   "source": [
    "\n",
    "job_elements = results.find_all(\"td\")\n",
    "# print(job_elements)\n",
    "# list(job_elements.children)\n",
    "for job_element in job_elements:\n",
    "     # print(job_element, end=\"\\n\"*2)\n",
    "     action_element = job_element.find(\"a\")\n",
    "     value_element = job_element.find(\"td\")\n",
    "     diff_element = job_element.find(\"td\",class_=\"DifClBj\")\n",
    "#     location_element = job_element.find(\"p\", class_=\"location\")\n",
    "#     print(title_element.text.strip())\n",
    "     if action_element != None :\n",
    "           print(action_element.text)\n",
    "     if value_element != None :\n",
    "      print(value_element.text)\n",
    "     if diff_element != None :\n",
    "      print(diff_element.text) \n",
    "#  # print()"
   ]
  },
  {
   "cell_type": "code",
   "execution_count": null,
   "metadata": {},
   "outputs": [],
   "source": [
    "python_jobs = results.find_all(\"h2\", string=\"Python\")\n",
    "print(python_jobs)"
   ]
  },
  {
   "cell_type": "code",
   "execution_count": null,
   "metadata": {},
   "outputs": [],
   "source": [
    "python_jobs = results.find_all(\n",
    "    \"h2\", string=lambda text: \"python\" in text.lower()\n",
    ")\n",
    "print(len(python_jobs))\n",
    "\n",
    "python_job_elements = [\n",
    "    h2_element.parent.parent.parent for h2_element in python_jobs\n",
    "]\n",
    "for job_element in python_job_elements:\n",
    "    company_element = job_element.find(\"h3\", class_=\"company\")\n",
    "    location_element = job_element.find(\"p\", class_=\"location\")\n",
    "    links = job_element.find_all(\"a\")\n",
    "    for link in links:\n",
    "        if link.text == 'Apply':\n",
    "            link_url = link[\"href\"]\n",
    "            print(company_element.text.strip())\n",
    "            print(location_element.text.strip())\n",
    "            print(f\"Apply here: {link_url}\\n\")"
   ]
  },
  {
   "cell_type": "markdown",
   "metadata": {},
   "source": [
    "\n",
    "# Level 2\n",
    "\n",
    "## - Exercise 2\n",
    "\n",
    "Document in a word document the data set generated with the information contained in the different Kaggle archives.\n"
   ]
  },
  {
   "cell_type": "markdown",
   "metadata": {},
   "source": [
    "\n",
    "# Level 3 \n",
    "\n",
    "## - Exercise 3\n",
    "\n",
    "Download a web page of your choice and perform web scraping using the Scrapy library."
   ]
  }
 ],
 "metadata": {
  "interpreter": {
   "hash": "494e690407c5c7c9b2fbc0a1227ada2e3d821eefed538763ba3356ad470e06f1"
  },
  "kernelspec": {
   "display_name": "Python 3.9.7 ('base')",
   "language": "python",
   "name": "python3"
  },
  "language_info": {
   "codemirror_mode": {
    "name": "ipython",
    "version": 3
   },
   "file_extension": ".py",
   "mimetype": "text/x-python",
   "name": "python",
   "nbconvert_exporter": "python",
   "pygments_lexer": "ipython3",
   "version": "3.9.12"
  },
  "orig_nbformat": 4
 },
 "nbformat": 4,
 "nbformat_minor": 2
}
