{
 "cells": [
  {
   "cell_type": "markdown",
   "metadata": {},
   "source": [
    "# Statement\n",
    "Learn how to do web scraping.\n",
    "\n",
    "Level 1\n",
    "\n",
    "- Exercise 1\n",
    "\n",
    "Perform web scraping of a page of the Madrid Stock Exchange (https://www.bolsamadrid.es) using BeautifulSoup and Selenium.\n",
    "\n",
    "Level 2\n",
    "\n",
    "- Exercise 2\n",
    "\n",
    "Document in a word document the data set generated with the information contained in the different Kaggle archives.\n",
    "\n",
    "Level 3 - Exercise 3\n",
    "\n",
    "Download a web page of your choice and perform web scraping using the Scrapy library."
   ]
  },
  {
   "cell_type": "markdown",
   "metadata": {},
   "source": [
    "# Level 1\n",
    "\n",
    "## - Exercise 1\n",
    "\n",
    "Perform web scraping of a page of the Madrid Stock Exchange (https://www.bolsamadrid.es) using BeautifulSoup and Selenium.\n"
   ]
  },
  {
   "cell_type": "markdown",
   "metadata": {},
   "source": [
    "\n",
    "# Level 2\n",
    "\n",
    "## - Exercise 2\n",
    "\n",
    "Document in a word document the data set generated with the information contained in the different Kaggle archives.\n"
   ]
  },
  {
   "cell_type": "markdown",
   "metadata": {},
   "source": [
    "\n",
    "# Level 3 \n",
    "\n",
    "## - Exercise 3\n",
    "\n",
    "Download a web page of your choice and perform web scraping using the Scrapy library."
   ]
  },
  {
   "cell_type": "code",
   "execution_count": 1,
   "metadata": {},
   "outputs": [],
   "source": [
    "import requests\n",
    "from bs4 import BeautifulSoup\n"
   ]
  },
  {
   "cell_type": "code",
   "execution_count": 21,
   "metadata": {},
   "outputs": [
    {
     "data": {
      "text/plain": [
       "<function TextIOWrapper.close()>"
      ]
     },
     "execution_count": 21,
     "metadata": {},
     "output_type": "execute_result"
    }
   ],
   "source": [
    "import requests\n",
    "\n",
    "URL = \"https://www.bolsamadrid.es\"\n",
    "# URL = \"https://realpython.github.io/fake-jobs/\"\n",
    "page = requests.get(URL)\n",
    "\n",
    "fsock = open('Output_Bolsa_raw.html', 'w')\n",
    "print(page.text, file=fsock)\n",
    "fsock.close"
   ]
  },
  {
   "cell_type": "code",
   "execution_count": 16,
   "metadata": {},
   "outputs": [],
   "source": [
    "URL = \"https://realpython.github.io/fake-jobs/\"\n",
    "page = requests.get(URL)\n",
    "\n",
    "soup = BeautifulSoup(page.content, \"html.parser\")"
   ]
  },
  {
   "cell_type": "code",
   "execution_count": 19,
   "metadata": {},
   "outputs": [
    {
     "name": "stdout",
     "output_type": "stream",
     "text": [
      "\n"
     ]
    }
   ],
   "source": [
    "fsock = open('Output_Bolsa_BeautifulSoup_Prettify.html', 'w')\n",
    "print(soup.prettify(), file=fsock)\n",
    "fsock.close\n",
    "print()"
   ]
  }
 ],
 "metadata": {
  "interpreter": {
   "hash": "494e690407c5c7c9b2fbc0a1227ada2e3d821eefed538763ba3356ad470e06f1"
  },
  "kernelspec": {
   "display_name": "Python 3.9.7 ('base')",
   "language": "python",
   "name": "python3"
  },
  "language_info": {
   "codemirror_mode": {
    "name": "ipython",
    "version": 3
   },
   "file_extension": ".py",
   "mimetype": "text/x-python",
   "name": "python",
   "nbconvert_exporter": "python",
   "pygments_lexer": "ipython3",
   "version": "3.9.12"
  },
  "orig_nbformat": 4
 },
 "nbformat": 4,
 "nbformat_minor": 2
}
